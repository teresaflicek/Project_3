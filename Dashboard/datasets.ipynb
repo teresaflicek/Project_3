{
 "cells": [
  {
   "cell_type": "code",
   "execution_count": 1,
   "metadata": {},
   "outputs": [],
   "source": [
    "import pandas as pd"
   ]
  },
  {
   "cell_type": "code",
   "execution_count": 2,
   "metadata": {},
   "outputs": [],
   "source": [
    "chicagofile = \"csv_files/Chicago.csv\""
   ]
  },
  {
   "cell_type": "code",
   "execution_count": 3,
   "metadata": {},
   "outputs": [
    {
     "data": {
      "text/html": [
       "<div>\n",
       "<style scoped>\n",
       "    .dataframe tbody tr th:only-of-type {\n",
       "        vertical-align: middle;\n",
       "    }\n",
       "\n",
       "    .dataframe tbody tr th {\n",
       "        vertical-align: top;\n",
       "    }\n",
       "\n",
       "    .dataframe thead th {\n",
       "        text-align: right;\n",
       "    }\n",
       "</style>\n",
       "<table border=\"1\" class=\"dataframe\">\n",
       "  <thead>\n",
       "    <tr style=\"text-align: right;\">\n",
       "      <th></th>\n",
       "      <th>data_no</th>\n",
       "      <th>event_date</th>\n",
       "      <th>year</th>\n",
       "      <th>event_type</th>\n",
       "      <th>sub_event_type</th>\n",
       "      <th>actor1</th>\n",
       "      <th>assoc_actor_1</th>\n",
       "      <th>country</th>\n",
       "      <th>admin1</th>\n",
       "      <th>admin2</th>\n",
       "      <th>location</th>\n",
       "      <th>latitude</th>\n",
       "      <th>longitude</th>\n",
       "      <th>source</th>\n",
       "      <th>notes</th>\n",
       "      <th>fatalities</th>\n",
       "      <th>timestamp</th>\n",
       "    </tr>\n",
       "  </thead>\n",
       "  <tbody>\n",
       "    <tr>\n",
       "      <th>0</th>\n",
       "      <td>621</td>\n",
       "      <td>14-Feb-21</td>\n",
       "      <td>2021</td>\n",
       "      <td>Protests</td>\n",
       "      <td>Peaceful protest</td>\n",
       "      <td>Protesters (United States)</td>\n",
       "      <td>Indivisible Movement; BLM: Black Lives Matter;...</td>\n",
       "      <td>United States</td>\n",
       "      <td>Illinois</td>\n",
       "      <td>Cook</td>\n",
       "      <td>Riverside</td>\n",
       "      <td>41.8361</td>\n",
       "      <td>-87.8272</td>\n",
       "      <td>WGN Channel 9</td>\n",
       "      <td>On 14 February 2021, a small crowd of people l...</td>\n",
       "      <td>0</td>\n",
       "      <td>1614122725</td>\n",
       "    </tr>\n",
       "    <tr>\n",
       "      <th>1</th>\n",
       "      <td>761</td>\n",
       "      <td>11-Feb-21</td>\n",
       "      <td>2021</td>\n",
       "      <td>Protests</td>\n",
       "      <td>Peaceful protest</td>\n",
       "      <td>Protesters (United States)</td>\n",
       "      <td>Labour Group (United States)</td>\n",
       "      <td>United States</td>\n",
       "      <td>Illinois</td>\n",
       "      <td>Cook</td>\n",
       "      <td>Chicago</td>\n",
       "      <td>41.8500</td>\n",
       "      <td>-87.6501</td>\n",
       "      <td>Block Club Chicago</td>\n",
       "      <td>On 11 February 2021, members of the Unite Here...</td>\n",
       "      <td>0</td>\n",
       "      <td>1613516909</td>\n",
       "    </tr>\n",
       "    <tr>\n",
       "      <th>2</th>\n",
       "      <td>1011</td>\n",
       "      <td>8-Feb-21</td>\n",
       "      <td>2021</td>\n",
       "      <td>Protests</td>\n",
       "      <td>Peaceful protest</td>\n",
       "      <td>Protesters (United States)</td>\n",
       "      <td>Labour Group (United States)</td>\n",
       "      <td>United States</td>\n",
       "      <td>Illinois</td>\n",
       "      <td>Cook</td>\n",
       "      <td>Chicago</td>\n",
       "      <td>41.8500</td>\n",
       "      <td>-87.6501</td>\n",
       "      <td>Tucson Sentinel</td>\n",
       "      <td>On 8 February 2021, an unreported number of pe...</td>\n",
       "      <td>0</td>\n",
       "      <td>1613516909</td>\n",
       "    </tr>\n",
       "    <tr>\n",
       "      <th>3</th>\n",
       "      <td>1206</td>\n",
       "      <td>5-Feb-21</td>\n",
       "      <td>2021</td>\n",
       "      <td>Protests</td>\n",
       "      <td>Peaceful protest</td>\n",
       "      <td>Protesters (United States)</td>\n",
       "      <td>NaN</td>\n",
       "      <td>United States</td>\n",
       "      <td>Illinois</td>\n",
       "      <td>Cook</td>\n",
       "      <td>Chicago</td>\n",
       "      <td>41.8500</td>\n",
       "      <td>-87.6501</td>\n",
       "      <td>Chicago Sun-Times</td>\n",
       "      <td>On 5 February 2021, over a dozen people includ...</td>\n",
       "      <td>0</td>\n",
       "      <td>1613516909</td>\n",
       "    </tr>\n",
       "    <tr>\n",
       "      <th>4</th>\n",
       "      <td>1882</td>\n",
       "      <td>26-Jan-21</td>\n",
       "      <td>2021</td>\n",
       "      <td>Protests</td>\n",
       "      <td>Peaceful protest</td>\n",
       "      <td>Protesters (United States)</td>\n",
       "      <td>Asian American Group (United States); Sikh Gro...</td>\n",
       "      <td>United States</td>\n",
       "      <td>Illinois</td>\n",
       "      <td>Cook</td>\n",
       "      <td>Chicago</td>\n",
       "      <td>41.8500</td>\n",
       "      <td>-87.6501</td>\n",
       "      <td>Columbia Chronicle; Crowd Counting Consortium</td>\n",
       "      <td>On 26 January 2021, around 200 members of the ...</td>\n",
       "      <td>0</td>\n",
       "      <td>1612546516</td>\n",
       "    </tr>\n",
       "  </tbody>\n",
       "</table>\n",
       "</div>"
      ],
      "text/plain": [
       "   data_no event_date  year event_type    sub_event_type  \\\n",
       "0      621  14-Feb-21  2021   Protests  Peaceful protest   \n",
       "1      761  11-Feb-21  2021   Protests  Peaceful protest   \n",
       "2     1011   8-Feb-21  2021   Protests  Peaceful protest   \n",
       "3     1206   5-Feb-21  2021   Protests  Peaceful protest   \n",
       "4     1882  26-Jan-21  2021   Protests  Peaceful protest   \n",
       "\n",
       "                       actor1  \\\n",
       "0  Protesters (United States)   \n",
       "1  Protesters (United States)   \n",
       "2  Protesters (United States)   \n",
       "3  Protesters (United States)   \n",
       "4  Protesters (United States)   \n",
       "\n",
       "                                       assoc_actor_1        country    admin1  \\\n",
       "0  Indivisible Movement; BLM: Black Lives Matter;...  United States  Illinois   \n",
       "1                       Labour Group (United States)  United States  Illinois   \n",
       "2                       Labour Group (United States)  United States  Illinois   \n",
       "3                                                NaN  United States  Illinois   \n",
       "4  Asian American Group (United States); Sikh Gro...  United States  Illinois   \n",
       "\n",
       "  admin2   location  latitude  longitude  \\\n",
       "0   Cook  Riverside   41.8361   -87.8272   \n",
       "1   Cook    Chicago   41.8500   -87.6501   \n",
       "2   Cook    Chicago   41.8500   -87.6501   \n",
       "3   Cook    Chicago   41.8500   -87.6501   \n",
       "4   Cook    Chicago   41.8500   -87.6501   \n",
       "\n",
       "                                          source  \\\n",
       "0                                  WGN Channel 9   \n",
       "1                             Block Club Chicago   \n",
       "2                                Tucson Sentinel   \n",
       "3                              Chicago Sun-Times   \n",
       "4  Columbia Chronicle; Crowd Counting Consortium   \n",
       "\n",
       "                                               notes  fatalities   timestamp  \n",
       "0  On 14 February 2021, a small crowd of people l...           0  1614122725  \n",
       "1  On 11 February 2021, members of the Unite Here...           0  1613516909  \n",
       "2  On 8 February 2021, an unreported number of pe...           0  1613516909  \n",
       "3  On 5 February 2021, over a dozen people includ...           0  1613516909  \n",
       "4  On 26 January 2021, around 200 members of the ...           0  1612546516  "
      ]
     },
     "execution_count": 3,
     "metadata": {},
     "output_type": "execute_result"
    }
   ],
   "source": [
    "chicagoDF = pd.read_csv(chicagofile)\n",
    "chicagoDF.head()"
   ]
  },
  {
   "cell_type": "code",
   "execution_count": 4,
   "metadata": {},
   "outputs": [],
   "source": [
    "chicagoDF.to_html(\"data_htmlfiles/chicagodata.html\", index=False)"
   ]
  },
  {
   "cell_type": "code",
   "execution_count": 5,
   "metadata": {},
   "outputs": [],
   "source": [
    "guadafile = \"csv_files/Guadalajara.csv\""
   ]
  },
  {
   "cell_type": "code",
   "execution_count": 6,
   "metadata": {},
   "outputs": [],
   "source": [
    "guadaDF = pd.read_csv(guadafile)\n",
    "# guadaDF.head()"
   ]
  },
  {
   "cell_type": "code",
   "execution_count": 7,
   "metadata": {},
   "outputs": [],
   "source": [
    "guadaDF.to_html(\"data_htmlfiles/guadalajaradata.html\", index=False)"
   ]
  },
  {
   "cell_type": "code",
   "execution_count": 8,
   "metadata": {},
   "outputs": [],
   "source": [
    "losangelesfile = \"csv_files/Los_Angeles.csv\""
   ]
  },
  {
   "cell_type": "code",
   "execution_count": 9,
   "metadata": {},
   "outputs": [],
   "source": [
    "losangDF = pd.read_csv(losangelesfile)"
   ]
  },
  {
   "cell_type": "code",
   "execution_count": 10,
   "metadata": {},
   "outputs": [],
   "source": [
    "losangDF.to_html(\"data_htmlfiles/losangelesdata.html\", index=False)"
   ]
  },
  {
   "cell_type": "code",
   "execution_count": 11,
   "metadata": {},
   "outputs": [],
   "source": [
    "mexicocityfile = \"csv_files/Mexico_City.csv\""
   ]
  },
  {
   "cell_type": "code",
   "execution_count": 12,
   "metadata": {},
   "outputs": [],
   "source": [
    "mexicoDF = pd.read_csv(mexicocityfile)"
   ]
  },
  {
   "cell_type": "code",
   "execution_count": 13,
   "metadata": {},
   "outputs": [],
   "source": [
    "mexicoDF.to_html(\"data_htmlfiles/mexicocitydata.html\", index=False)"
   ]
  },
  {
   "cell_type": "code",
   "execution_count": 14,
   "metadata": {},
   "outputs": [],
   "source": [
    "newyorkfile = \"csv_files/New_York.csv\""
   ]
  },
  {
   "cell_type": "code",
   "execution_count": 15,
   "metadata": {},
   "outputs": [],
   "source": [
    "newyorkDF = pd.read_csv(newyorkfile)"
   ]
  },
  {
   "cell_type": "code",
   "execution_count": 16,
   "metadata": {},
   "outputs": [],
   "source": [
    "newyorkDF.to_html(\"data_htmlfiles/newyorkdata.html\", index=False)"
   ]
  },
  {
   "cell_type": "code",
   "execution_count": 17,
   "metadata": {},
   "outputs": [],
   "source": [
    "dcfile = \"csv_files/Washington_DC.csv\""
   ]
  },
  {
   "cell_type": "code",
   "execution_count": 18,
   "metadata": {},
   "outputs": [],
   "source": [
    "dcDF = pd.read_csv(dcfile)"
   ]
  },
  {
   "cell_type": "code",
   "execution_count": 19,
   "metadata": {},
   "outputs": [],
   "source": [
    "dcDF.to_html(\"data_htmlfiles/dcdata.html\", index=False)"
   ]
  },
  {
   "cell_type": "code",
   "execution_count": null,
   "metadata": {},
   "outputs": [],
   "source": []
  }
 ],
 "metadata": {
  "kernelspec": {
   "display_name": "Python [conda env:PythonData] *",
   "language": "python",
   "name": "conda-env-PythonData-py"
  },
  "language_info": {
   "codemirror_mode": {
    "name": "ipython",
    "version": 3
   },
   "file_extension": ".py",
   "mimetype": "text/x-python",
   "name": "python",
   "nbconvert_exporter": "python",
   "pygments_lexer": "ipython3",
   "version": "3.8.5"
  }
 },
 "nbformat": 4,
 "nbformat_minor": 4
}
